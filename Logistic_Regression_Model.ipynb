{
 "cells": [
  {
   "cell_type": "code",
   "execution_count": 44,
   "metadata": {},
   "outputs": [],
   "source": [
    "#importing liberaries\n",
    "\n",
    "import numpy as np\n",
    "import pandas as pd\n",
    "import matplotlib.pyplot as plt\n",
    "from sklearn.preprocessing import Imputer\n",
    "from sklearn.preprocessing import LabelEncoder, OneHotEncoder\n",
    "from sklearn.linear_model import LogisticRegression"
   ]
  },
  {
   "cell_type": "code",
   "execution_count": 45,
   "metadata": {},
   "outputs": [],
   "source": [
    "#Loading the Traning Data\n",
    "data = pd.read_csv('train.csv')\n",
    "y = data.iloc[:,1].values"
   ]
  },
  {
   "cell_type": "code",
   "execution_count": 46,
   "metadata": {},
   "outputs": [
    {
     "name": "stderr",
     "output_type": "stream",
     "text": [
      "c:\\users\\sohan\\appdata\\local\\programs\\python\\python37\\lib\\site-packages\\sklearn\\preprocessing\\_encoders.py:371: FutureWarning: The handling of integer data will change in version 0.22. Currently, the categories are determined based on the range [0, max(values)], while in the future they will be determined based on the unique values.\n",
      "If you want the future behaviour and silence this warning, you can specify \"categories='auto'\".\n",
      "In case you used a LabelEncoder before this OneHotEncoder to convert the categories to integers, then you can now use the OneHotEncoder directly.\n",
      "  warnings.warn(msg, FutureWarning)\n"
     ]
    }
   ],
   "source": [
    "#Data Preprocessing Step\n",
    "\n",
    "data.drop(columns=['Survived','Name','Ticket'], inplace=True)\n",
    "data[\"Cabin\"].fillna(0,inplace=True)\n",
    "data['Cabin'] = data['Cabin'].replace([val for val in data['Cabin'] if val !=0], 1)\n",
    "#creating an imputer object\n",
    "imputer = Imputer(missing_values=np.NaN, strategy= 'mean')\n",
    "data['Age'] = imputer.fit_transform(np.reshape(data['Age'].values, (len(data['Age']), 1)))\n",
    "data['Embarked'] = data['Embarked'].replace([val for val in data['Embarked'] if val!='C' and val!='S' and val!='Q'],'S')\n",
    "#creating a LabelEncoder object\n",
    "label_encoder = LabelEncoder()\n",
    "data['Sex'] = label_encoder.fit_transform(data['Sex'])\n",
    "label_encoder1 = LabelEncoder()\n",
    "data['Embarked'] = label_encoder1.fit_transform(data['Embarked'].astype(str))\n",
    "#creating an object of OneHotEncoder\n",
    "onehot_encoder = OneHotEncoder(categorical_features=[8])\n",
    "data = onehot_encoder.fit_transform(data).toarray()\n",
    "#converting numpy array to DataFrame\n",
    "data = pd.DataFrame(data)\n",
    "#Droping the unnecessary column that are introduced by OneHotEncoder\n",
    "data.drop(columns=[2], inplace=True)\n",
    "#Final input dataset to the Logistic Regression\n",
    "X = data.values"
   ]
  },
  {
   "cell_type": "code",
   "execution_count": 47,
   "metadata": {},
   "outputs": [],
   "source": [
    "#Traning the Logistic Regression Model\n",
    "\n",
    "regressor = LogisticRegression(random_state=0,solver='liblinear')\n",
    "regressor.fit(X,y)\n",
    "pred_y = regressor.predict(X)"
   ]
  },
  {
   "cell_type": "code",
   "execution_count": 48,
   "metadata": {},
   "outputs": [
    {
     "data": {
      "text/plain": [
       "PassengerId    False\n",
       "Pclass         False\n",
       "Name           False\n",
       "Sex            False\n",
       "Age             True\n",
       "SibSp          False\n",
       "Parch          False\n",
       "Ticket         False\n",
       "Fare            True\n",
       "Cabin           True\n",
       "Embarked       False\n",
       "dtype: bool"
      ]
     },
     "execution_count": 48,
     "metadata": {},
     "output_type": "execute_result"
    }
   ],
   "source": [
    "#loading test DataSet\n",
    "test = pd.read_csv('test.csv')\n",
    "test.isnull().any()"
   ]
  },
  {
   "cell_type": "code",
   "execution_count": 49,
   "metadata": {},
   "outputs": [
    {
     "name": "stderr",
     "output_type": "stream",
     "text": [
      "c:\\users\\sohan\\appdata\\local\\programs\\python\\python37\\lib\\site-packages\\sklearn\\preprocessing\\_encoders.py:371: FutureWarning: The handling of integer data will change in version 0.22. Currently, the categories are determined based on the range [0, max(values)], while in the future they will be determined based on the unique values.\n",
      "If you want the future behaviour and silence this warning, you can specify \"categories='auto'\".\n",
      "In case you used a LabelEncoder before this OneHotEncoder to convert the categories to integers, then you can now use the OneHotEncoder directly.\n",
      "  warnings.warn(msg, FutureWarning)\n"
     ]
    }
   ],
   "source": [
    "#Data Preprocessing Step\n",
    "\n",
    "test.drop(columns=['Name','Ticket'], inplace=True)\n",
    "test[\"Cabin\"].fillna(0,inplace=True)\n",
    "test['Cabin'] = test['Cabin'].replace([val for val in test['Cabin'] if val !=0], 1)\n",
    "#impute\n",
    "test['Age'] = imputer.transform(np.reshape(test['Age'].values, (len(test['Age']), 1)))\n",
    "test['Fare'] = imputer.fit_transform(np.reshape(test['Fare'].values, (len(test), 1)))\n",
    "#label Encoding\n",
    "test['Sex'] = label_encoder.transform(test['Sex'])\n",
    "test['Embarked'] = label_encoder1.transform(test['Embarked'].astype(str))\n",
    "#onehot encoder\n",
    "onehot_encoder1 = OneHotEncoder(categorical_features=[8])\n",
    "test = onehot_encoder1.fit_transform(test).toarray()\n",
    "#conver numpy array to DataFrame\n",
    "test = pd.DataFrame(test)\n",
    "test.drop(columns=[2], inplace=True)\n",
    "test = test.values"
   ]
  },
  {
   "cell_type": "code",
   "execution_count": 50,
   "metadata": {},
   "outputs": [],
   "source": [
    "#Predict the output and save to csv file\n",
    "\n",
    "predict = regressor.predict(test)\n",
    "final = np.append(arr=np.reshape(test[:,2], (len(test), 1)), values=np.reshape(predict, (len(predict), 1)), axis=1)\n",
    "final = pd.DataFrame(final)\n",
    "final.columns = ['PassengerId', 'Survived']\n",
    "final.astype(int).to_csv('predict.csv',index=False)"
   ]
  }
 ],
 "metadata": {
  "kernelspec": {
   "display_name": "Python 3",
   "language": "python",
   "name": "python3"
  },
  "language_info": {
   "codemirror_mode": {
    "name": "ipython",
    "version": 3
   },
   "file_extension": ".py",
   "mimetype": "text/x-python",
   "name": "python",
   "nbconvert_exporter": "python",
   "pygments_lexer": "ipython3",
   "version": "3.7.2"
  }
 },
 "nbformat": 4,
 "nbformat_minor": 2
}
